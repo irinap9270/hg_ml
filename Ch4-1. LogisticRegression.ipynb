{
  "nbformat": 4,
  "nbformat_minor": 0,
  "metadata": {
    "colab": {
      "provenance": [],
      "authorship_tag": "ABX9TyNlx4LW/xcMil1YxuZe7pvG",
      "include_colab_link": true
    },
    "kernelspec": {
      "name": "python3",
      "display_name": "Python 3"
    },
    "language_info": {
      "name": "python"
    }
  },
  "cells": [
    {
      "cell_type": "markdown",
      "metadata": {
        "id": "view-in-github",
        "colab_type": "text"
      },
      "source": [
        "<a href=\"https://colab.research.google.com/github/irinap9270/hg_ml/blob/main/Ch4-1.%20LogisticRegression.ipynb\" target=\"_parent\"><img src=\"https://colab.research.google.com/assets/colab-badge.svg\" alt=\"Open In Colab\"/></a>"
      ]
    },
    {
      "cell_type": "markdown",
      "source": [
        "# \"\"\"럭키백의 확률\"\"\"\n",
        "\n",
        "> 럭키백에 포함된 생선의 확률은 어떻게 알 수 있을까?\n",
        "\n",
        "이웃의 클래스 비율을 확률이라고 출력하면 되지 않을까?\n"
      ],
      "metadata": {
        "id": "8hTl_NLGFI9B"
      }
    },
    {
      "cell_type": "code",
      "execution_count": 3,
      "metadata": {
        "colab": {
          "base_uri": "https://localhost:8080/"
        },
        "id": "uyHmjBO8E568",
        "outputId": "c96f7041-39c8-479d-dbb4-743c4ea3fc9c"
      },
      "outputs": [
        {
          "output_type": "stream",
          "name": "stdout",
          "text": [
            "  Species  Weight  Length  Diagonal   Height   Width\n",
            "0   Bream   242.0    25.4      30.0  11.5200  4.0200\n",
            "1   Bream   290.0    26.3      31.2  12.4800  4.3056\n",
            "2   Bream   340.0    26.5      31.1  12.3778  4.6961\n",
            "3   Bream   363.0    29.0      33.5  12.7300  4.4555\n",
            "4   Bream   430.0    29.0      34.0  12.4440  5.1340\n",
            "['Bream' 'Roach' 'Whitefish' 'Parkki' 'Perch' 'Pike' 'Smelt']\n"
          ]
        }
      ],
      "source": [
        "# 데이터 준비\n",
        "import pandas as pd\n",
        "fish = pd.read_csv('https://bit.ly/fish_csv_data')\n",
        "# 처음 5개 행 출력\n",
        "print(fish.head())\n",
        "\n",
        "# 생선 종류 출력\n",
        "print(pd.unique(fish['Species']))"
      ]
    },
    {
      "cell_type": "code",
      "source": [
        "# Species를 제외한 열을 입력 데이터로 사용\n",
        "fish_input = fish[['Weight', 'Length', 'Diagonal', 'Height', 'Width']].to_numpy()\n",
        "# 타겟 데이터\n",
        "fish_target = fish['Species'].to_numpy()\n",
        "\n",
        "# 훈련 세트와 테스트 세트로 나눔\n",
        "from sklearn.model_selection import train_test_split\n",
        "train_input, test_input, train_target, test_target = train_test_split(fish_input, fish_target, random_state=42)\n",
        "\n",
        "# 훈련 세트와 테스트 세트를 표준화 전처리\n",
        "from sklearn.preprocessing import StandardScaler\n",
        "ss = StandardScaler()\n",
        "ss.fit(train_input)\n",
        "train_scaled = ss.transform(train_input)\n",
        "test_scaled = ss.transform(test_input)\n",
        "\n",
        "# 최근접 이웃의 개수를 3으로 하여 학습한 다음 정확도 출력\n",
        "from sklearn.neighbors import KNeighborsClassifier\n",
        "kn = KNeighborsClassifier(n_neighbors=3)\n",
        "kn.fit(train_scaled, train_target)\n",
        "print(kn.score(train_scaled, train_target))\n",
        "print(kn.score(test_scaled, test_target))"
      ],
      "metadata": {
        "colab": {
          "base_uri": "https://localhost:8080/"
        },
        "id": "9KtGccxfGCbF",
        "outputId": "3258b50b-3cce-4171-bebc-7737cecee761"
      },
      "execution_count": 23,
      "outputs": [
        {
          "output_type": "stream",
          "name": "stdout",
          "text": [
            "0.8907563025210085\n",
            "0.85\n"
          ]
        }
      ]
    },
    {
      "cell_type": "code",
      "source": [
        "# 타깃값 정렬 확인(알파벳 순서)\n",
        "print(kn.classes_)\n",
        "\n",
        "# 5개 샘플에 대한 예측값 출력\n",
        "print(kn.predict(test_scaled[:5]))\n",
        "# 클래스별 확률값 확인\n",
        "import numpy as np\n",
        "proba = kn.predict_proba(test_scaled[:5])\n",
        "print(np.round(proba, decimals=4))\n",
        "\n",
        "# 네 번째 샘플의 최근접 이웃 확인\n",
        "distances, indexes = kn.kneighbors(test_scaled[3:4])\n",
        "print(train_target[indexes])"
      ],
      "metadata": {
        "colab": {
          "base_uri": "https://localhost:8080/"
        },
        "id": "j_TADYV5HQfM",
        "outputId": "9ac01cbc-2cd2-4cd9-de88-f2838b4a0f3a"
      },
      "execution_count": 24,
      "outputs": [
        {
          "output_type": "stream",
          "name": "stdout",
          "text": [
            "['Bream' 'Parkki' 'Perch' 'Pike' 'Roach' 'Smelt' 'Whitefish']\n",
            "['Perch' 'Smelt' 'Pike' 'Perch' 'Perch']\n",
            "[[0.     0.     1.     0.     0.     0.     0.    ]\n",
            " [0.     0.     0.     0.     0.     1.     0.    ]\n",
            " [0.     0.     0.     1.     0.     0.     0.    ]\n",
            " [0.     0.     0.6667 0.     0.3333 0.     0.    ]\n",
            " [0.     0.     0.6667 0.     0.3333 0.     0.    ]]\n",
            "[['Roach' 'Perch' 'Perch']]\n"
          ]
        }
      ]
    },
    {
      "cell_type": "markdown",
      "source": [
        "3개의 최근접 이웃만 사용하기 때문에,\n",
        "확률이 0, 1/3, 2/3, 1이 전부이다."
      ],
      "metadata": {
        "id": "D1FxmhKCKFxg"
      }
    },
    {
      "cell_type": "markdown",
      "source": [
        "# \"\"\"로지스틱 회귀\"\"\"\n",
        "> 이름은 회귀이지만 분류 모델\n",
        "\n",
        "> 선형 회귀와 동일하게 선형 방정식을 학습"
      ],
      "metadata": {
        "id": "M9qPQIpeKdYs"
      }
    },
    {
      "cell_type": "markdown",
      "source": [
        "로지스틱 회귀로 이진 분류를 해보자."
      ],
      "metadata": {
        "id": "dtHNRCnoK1DM"
      }
    },
    {
      "cell_type": "code",
      "source": [
        "# train_target에서 도미와 빙어인 것만 True인 배열을 반환하여 인덱스로 생성\n",
        "bream_smelt_indexes = (train_target == 'Bream') | (train_target == 'Smelt')\n",
        "# 도미, 빙어에 대한 훈련 세트, 테스트 세트 생성\n",
        "train_bream_smelt = train_scaled[bream_smelt_indexes]\n",
        "target_bream_smelt = train_target[bream_smelt_indexes]\n",
        "\n",
        "# 처음 5개 샘플 예측\n",
        "from sklearn.linear_model import LogisticRegression\n",
        "lr = LogisticRegression()\n",
        "lr.fit(train_bream_smelt, target_bream_smelt)\n",
        "\n",
        "# 처음 5개 샘플 예측\n",
        "print(lr.predict(train_bream_smelt[:5]))\n",
        "# 처음 5개 샘플의 각 확률 출력\n",
        "print(lr.predict_proba(train_bream_smelt[:5]))\n",
        "\n",
        "# 학습한 계수(가중치) 확인\n",
        "print(lr.coef_, lr.intercept_)\n",
        "\n",
        "# 처음 5개 샘플의 z값 출력\n",
        "decisions = lr.decision_function(train_bream_smelt[:5])\n",
        "print(decisions)\n",
        "\n",
        "# z값을 시그모이드함수에 통과시켜 확률 얻기\n",
        "from scipy.special import expit\n",
        "print(expit(decisions))"
      ],
      "metadata": {
        "colab": {
          "base_uri": "https://localhost:8080/"
        },
        "id": "jU9wiK38KgdT",
        "outputId": "a0e64154-9fff-4870-f0cd-cb744952c008"
      },
      "execution_count": 33,
      "outputs": [
        {
          "output_type": "stream",
          "name": "stdout",
          "text": [
            "['Bream' 'Smelt' 'Bream' 'Bream' 'Bream']\n",
            "[[0.99759855 0.00240145]\n",
            " [0.02735183 0.97264817]\n",
            " [0.99486072 0.00513928]\n",
            " [0.98584202 0.01415798]\n",
            " [0.99767269 0.00232731]]\n",
            "[[-0.4037798  -0.57620209 -0.66280298 -1.01290277 -0.73168947]] [-2.16155132]\n",
            "[-6.02927744  3.57123907 -5.26568906 -4.24321775 -6.0607117 ]\n",
            "[0.00240145 0.97264817 0.00513928 0.01415798 0.00232731]\n"
          ]
        }
      ]
    },
    {
      "cell_type": "markdown",
      "source": [
        "\"\"\"로지스틱 회귀로 다중 분류하기\"\"\""
      ],
      "metadata": {
        "id": "ELxlqsrjPAxV"
      }
    },
    {
      "cell_type": "markdown",
      "source": [
        "7개의 생선을 분류해보자."
      ],
      "metadata": {
        "id": "4rXsokiGPHJs"
      }
    },
    {
      "cell_type": "code",
      "source": [
        "# C; L2규제(계수의 제곱을 규제)를 제어하는 매개변수. 작을수록 규제가 커짐\n",
        "# max_iter; 반복 횟수를 지정하는 매개변수\n",
        "lr = LogisticRegression(C=20, max_iter=1000)\n",
        "lr.fit(train_scaled, train_target)\n",
        "print(lr.score(train_scaled, train_target))\n",
        "print(lr.score(test_scaled, test_target))\n",
        "\n",
        "# 처음 5개 샘플의 예측값 출력\n",
        "print(lr.predict(test_scaled[:5]))\n",
        "# 처음 5개 샘플의 예측 확률 출력\n",
        "proba = lr.predict_proba(test_scaled[:5])\n",
        "print(np.round(proba, decimals=3))\n",
        "\n",
        "# 방정식의 계수와 절편의 개수 출력\n",
        "print(lr.coef_.shape, lr.intercept_.shape)"
      ],
      "metadata": {
        "colab": {
          "base_uri": "https://localhost:8080/"
        },
        "id": "aNlrgAv7PEAY",
        "outputId": "57dbf5ee-ac5d-495f-e9d0-b8b4a09c5864"
      },
      "execution_count": 41,
      "outputs": [
        {
          "output_type": "stream",
          "name": "stdout",
          "text": [
            "0.9327731092436975\n",
            "0.925\n",
            "['Perch' 'Smelt' 'Pike' 'Roach' 'Perch']\n",
            "[[0.    0.014 0.841 0.    0.136 0.007 0.003]\n",
            " [0.    0.003 0.044 0.    0.007 0.946 0.   ]\n",
            " [0.    0.    0.034 0.935 0.015 0.016 0.   ]\n",
            " [0.011 0.034 0.306 0.007 0.567 0.    0.076]\n",
            " [0.    0.    0.904 0.002 0.089 0.002 0.001]]\n",
            "(7, 5) (7,)\n"
          ]
        }
      ]
    },
    {
      "cell_type": "markdown",
      "source": [
        "특성이 5개 > coef_배열의 열은 5개\n",
        "\n",
        "coef_배열의 행과 intercept_ 7개 > 클래스마다 z값을 하나씩 계산한다.\n",
        "\n",
        "> 가장 높은 z값을 출력하는 클래스가 예측 클래스가 된다."
      ],
      "metadata": {
        "id": "T-JlYgK4RM-R"
      }
    },
    {
      "cell_type": "markdown",
      "source": [
        "소프트맥스 함수를 사용해 확률로 바꾸어보자"
      ],
      "metadata": {
        "id": "-SM_7r-USOxc"
      }
    },
    {
      "cell_type": "code",
      "source": [
        "# decision_function(); z1-z7의 값을 구하는 함수\n",
        "decision = lr.decision_function(test_scaled[:5])\n",
        "print(np.round(decision, decimals=2))\n",
        "\n",
        "# 소프트맥스 함수 사용\n",
        "from scipy.special import softmax\n",
        "# axis=1로 지정하여 각 행(샘플)에 대해 소프트맥스를 게산함\n",
        "proba = softmax(decision, axis=1)\n",
        "print(np.round(proba, decimals=3))"
      ],
      "metadata": {
        "colab": {
          "base_uri": "https://localhost:8080/"
        },
        "id": "3_uTC4i8RoMb",
        "outputId": "74f1fed4-0373-4a28-b70e-f6afcb1955c4"
      },
      "execution_count": 46,
      "outputs": [
        {
          "output_type": "stream",
          "name": "stdout",
          "text": [
            "[[ -6.5    1.03   5.16  -2.73   3.34   0.33  -0.63]\n",
            " [-10.86   1.93   4.77  -2.4    2.98   7.84  -4.26]\n",
            " [ -4.34  -6.23   3.17   6.49   2.36   2.42  -3.87]\n",
            " [ -0.68   0.45   2.65  -1.19   3.26  -5.75   1.26]\n",
            " [ -6.4   -1.99   5.82  -0.11   3.5   -0.11  -0.71]]\n",
            "[[0.    0.014 0.841 0.    0.136 0.007 0.003]\n",
            " [0.    0.003 0.044 0.    0.007 0.946 0.   ]\n",
            " [0.    0.    0.034 0.935 0.015 0.016 0.   ]\n",
            " [0.011 0.034 0.306 0.007 0.567 0.    0.076]\n",
            " [0.    0.    0.904 0.002 0.089 0.002 0.001]]\n"
          ]
        }
      ]
    }
  ]
}