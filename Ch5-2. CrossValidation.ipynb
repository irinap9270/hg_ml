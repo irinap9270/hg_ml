{
  "nbformat": 4,
  "nbformat_minor": 0,
  "metadata": {
    "colab": {
      "provenance": [],
      "authorship_tag": "ABX9TyP+axm0prdm57/FfAmSYnCt",
      "include_colab_link": true
    },
    "kernelspec": {
      "name": "python3",
      "display_name": "Python 3"
    },
    "language_info": {
      "name": "python"
    }
  },
  "cells": [
    {
      "cell_type": "markdown",
      "metadata": {
        "id": "view-in-github",
        "colab_type": "text"
      },
      "source": [
        "<a href=\"https://colab.research.google.com/github/irinap9270/hg_ml/blob/main/Ch5-2.%20CrossValidation.ipynb\" target=\"_parent\"><img src=\"https://colab.research.google.com/assets/colab-badge.svg\" alt=\"Open In Colab\"/></a>"
      ]
    },
    {
      "cell_type": "markdown",
      "source": [
        "# \"\"\"교차검증\"\"\""
      ],
      "metadata": {
        "id": "di7Ce8vk_fYy"
      }
    },
    {
      "cell_type": "code",
      "execution_count": 3,
      "metadata": {
        "colab": {
          "base_uri": "https://localhost:8080/"
        },
        "id": "76XZo8JX-Kfd",
        "outputId": "8066b9e2-881a-460b-ce81-61203f698297"
      },
      "outputs": [
        {
          "output_type": "stream",
          "name": "stdout",
          "text": [
            "(4157, 3) (1040, 3)\n"
          ]
        }
      ],
      "source": [
        "# 데이터 불러옴\n",
        "import pandas as pd\n",
        "wine = pd.read_csv('https://bit.ly/wine_csv_data')\n",
        "data = wine[['alcohol', 'sugar', 'pH']].to_numpy()\n",
        "target = wine['class'].to_numpy()\n",
        "\n",
        "# 훈련 세트와 테스트 세트로 나눔\n",
        "from sklearn.model_selection import train_test_split\n",
        "train_input, test_input, train_target, test_target = train_test_split(data, target, test_size=0.2, random_state=42)\n",
        "\n",
        "# 검증 세트 생성\n",
        "sub_input, val_input, sub_target, val_target = train_test_split(train_input, train_target, test_size=0.2, random_state=42)\n",
        "# 훈련 세트와 검증 세트 크기 확인\n",
        "print(sub_input.shape, val_input.shape)"
      ]
    },
    {
      "cell_type": "code",
      "source": [
        "# 훈련 세트로 모델 학습\n",
        "from sklearn.tree import DecisionTreeClassifier\n",
        "dt = DecisionTreeClassifier(random_state=42)\n",
        "dt.fit(sub_input, sub_target)\n",
        "# 훈련 세트와 검증 세트에 대한 정확도 출력\n",
        "print(dt.score(sub_input, sub_target))\n",
        "print(dt.score(val_input, val_target))"
      ],
      "metadata": {
        "colab": {
          "base_uri": "https://localhost:8080/"
        },
        "id": "2uffehjNAbfE",
        "outputId": "51701041-c220-4be3-9a86-7565148e389e"
      },
      "execution_count": 4,
      "outputs": [
        {
          "output_type": "stream",
          "name": "stdout",
          "text": [
            "0.9971133028626413\n",
            "0.864423076923077\n"
          ]
        }
      ]
    },
    {
      "cell_type": "code",
      "source": [
        "from sklearn.model_selection import cross_validate # 교차 검증을 위한 알고리즘\n",
        "from sklearn.model_selection import StratifiedKFold\n",
        "# 모델 객체, 훈련 세트 전체를 매개변수로 전달\n",
        "# cv; 분할기(폴드를 어떻게 나눌지 결정)\n",
        "scores = cross_validate(dt, train_input, train_target, cv=StratifiedKFold())\n",
        "print(scores)\n",
        "\n",
        "# 5개의 교차 검증 점수를 평균한 최종 점수\n",
        "import numpy as np\n",
        "print(np.mean(scores['test_score']))\n",
        "\n",
        "# 훈련 세트를 섞은 후 10-폴드 교차 검증 수행\n",
        "# n_splits; 몇 폴드 교차 검증인지\n",
        "splitter = StratifiedKFold(n_splits=10, shuffle=True, random_state=42)\n",
        "scores = cross_validate(dt, train_input, train_target, cv=splitter)\n",
        "print(np.mean(scores['test_score']))"
      ],
      "metadata": {
        "colab": {
          "base_uri": "https://localhost:8080/"
        },
        "id": "I7btblVtA2_W",
        "outputId": "dfddb9e3-bd48-45d0-b665-d4fc893c4f88"
      },
      "execution_count": 5,
      "outputs": [
        {
          "output_type": "stream",
          "name": "stdout",
          "text": [
            "{'fit_time': array([0.01263428, 0.0104866 , 0.01459169, 0.01162744, 0.01803803]), 'score_time': array([0.00182652, 0.00179243, 0.00177765, 0.0017705 , 0.00173211]), 'test_score': array([0.86923077, 0.84615385, 0.87680462, 0.84889317, 0.83541867])}\n",
            "0.855300214703487\n",
            "0.8574181117533719\n"
          ]
        }
      ]
    },
    {
      "cell_type": "markdown",
      "source": [
        "# \"\"\"하이퍼파라미터 튜닝\"\"\""
      ],
      "metadata": {
        "id": "EORfs79SDaL_"
      }
    },
    {
      "cell_type": "code",
      "source": [
        "from sklearn.model_selection import GridSearchCV # 하이퍼파라미터 탐색과 교차 검증을 한 번에 수행하는 클래스\n",
        "# 탐색할 매개변수와 탐색할 값의 리스트를 딕셔너리로 생성\n",
        "# min_impurity_decrease; 노드를 분할하기 위한 불순도 감소 최소량\n",
        "params = {'min_impurity_decrease': [0.0001, 0.0002, 0.0003, 0.0004, 0.0005]}\n",
        "# 그리드 서치 객체 생성\n",
        "# 탐색 대상 모델과 params 변수를 전달\n",
        "# n_jobs; 매개 변수에서 병렬 실행에 사용할 CPU 코어 수\n",
        "gs = GridSearchCV(DecisionTreeClassifier(random_state=42), params, n_jobs=-1)\n",
        "gs.fit(train_input, train_target)\n",
        "# 학습이 끝나면 자동으로 검증 점수가 가장 높은 모델의 매개변수 조합으로 다시 학습\n",
        "\n",
        "# 검증 점수가 가장 높은 모델 정확도 확인\n",
        "dt = gs.best_estimator_\n",
        "print(dt.score(train_input, train_target))\n",
        "# 최적의 매개변수 확인\n",
        "print(gs.best_params_)\n",
        "# 각 매개변수의 교차 검증 평균 점수 출력\n",
        "print(gs.cv_results_['mean_test_score'])"
      ],
      "metadata": {
        "colab": {
          "base_uri": "https://localhost:8080/"
        },
        "id": "UQOXlnItDdCC",
        "outputId": "a272c70e-d69e-4500-f3c5-aa6f7991c417"
      },
      "execution_count": 6,
      "outputs": [
        {
          "output_type": "stream",
          "name": "stdout",
          "text": [
            "0.9615162593804117\n",
            "{'min_impurity_decrease': 0.0001}\n",
            "[0.86819297 0.86453617 0.86492226 0.86780891 0.86761605]\n"
          ]
        }
      ]
    },
    {
      "cell_type": "code",
      "source": [
        "# 불순도 감소 최소량, 깊이 제한, 노드를 나누기 위한 최소 샘플 수 탐색\n",
        "params = {'min_impurity_decrease': np.arange(0.0001, 0.001, 0.0001),\n",
        "          'max_depth': range(5, 20, 1),\n",
        "          'min_samples_split': range(2, 100, 10)}\n",
        "\n",
        "gs = GridSearchCV(DecisionTreeClassifier(random_state=42), params, n_jobs=-1)\n",
        "gs.fit(train_input, train_target)\n",
        "\n",
        "print(gs.best_params_)\n",
        "print(np.max(gs.cv_results_['mean_test_score']))"
      ],
      "metadata": {
        "colab": {
          "base_uri": "https://localhost:8080/"
        },
        "id": "37ev7_FmFngV",
        "outputId": "12d885cb-bdc1-43b7-d64c-1b3cb6d73ffb"
      },
      "execution_count": 7,
      "outputs": [
        {
          "output_type": "stream",
          "name": "stdout",
          "text": [
            "{'max_depth': 14, 'min_impurity_decrease': 0.0004, 'min_samples_split': 12}\n",
            "0.8683865773302731\n"
          ]
        }
      ]
    },
    {
      "cell_type": "code",
      "source": [
        "from scipy.stats import uniform, randint # 균등 분포에서 샘플링 하는 클래스(주어진 범위에서 고르게 값을 뽑음)\n",
        "# uniform; 실수, randint; 정수\n",
        "\n",
        "# 불순도 감소 최소량, 깊이 제한, 노드를 나누기 위한 최소 샘플 수, 리프 노드가 되기 위한 최소 샘플의 개수 탐색\n",
        "# uniform과 randint를 이용\n",
        "params = {'min_impurity_decrease': uniform(0.0001, 0.001),\n",
        "          'max_depth': randint(20, 50),\n",
        "          'min_samples_split': randint(2, 25),\n",
        "          'min_samples_leaf': randint(1, 25)}\n",
        "\n",
        "# n_iter; 샘플링 횟수\n",
        "from sklearn.model_selection import RandomizedSearchCV\n",
        "gs = RandomizedSearchCV(DecisionTreeClassifier(random_state=42), params, n_iter=100, n_jobs=-1, random_state=42)\n",
        "gs.fit(train_input, train_target)\n",
        "\n",
        "print(gs.best_params_)\n",
        "print(np.max(gs.cv_results_['mean_test_score']))\n",
        "\n",
        "dt = gs.best_estimator_\n",
        "print(dt.score(test_input, test_target))"
      ],
      "metadata": {
        "colab": {
          "base_uri": "https://localhost:8080/"
        },
        "id": "NxernAT2IxDJ",
        "outputId": "065e307f-4e23-4f0a-d980-bed1ca699786"
      },
      "execution_count": 8,
      "outputs": [
        {
          "output_type": "stream",
          "name": "stdout",
          "text": [
            "{'max_depth': 39, 'min_impurity_decrease': 0.00034102546602601173, 'min_samples_leaf': 7, 'min_samples_split': 13}\n",
            "0.8695428296438884\n",
            "0.86\n"
          ]
        }
      ]
    }
  ]
}