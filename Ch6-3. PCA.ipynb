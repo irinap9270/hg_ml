{
  "nbformat": 4,
  "nbformat_minor": 0,
  "metadata": {
    "colab": {
      "provenance": [],
      "gpuType": "T4",
      "authorship_tag": "ABX9TyM/G95bwe1l22UZDth4bycT",
      "include_colab_link": true
    },
    "kernelspec": {
      "name": "python3",
      "display_name": "Python 3"
    },
    "language_info": {
      "name": "python"
    },
    "accelerator": "GPU"
  },
  "cells": [
    {
      "cell_type": "markdown",
      "metadata": {
        "id": "view-in-github",
        "colab_type": "text"
      },
      "source": [
        "<a href=\"https://colab.research.google.com/github/irinap9270/hg_ml/blob/main/%08Ch6-3.%20PCA.ipynb\" target=\"_parent\"><img src=\"https://colab.research.google.com/assets/colab-badge.svg\" alt=\"Open In Colab\"/></a>"
      ]
    },
    {
      "cell_type": "markdown",
      "source": [
        "# \"\"\"PCA(주성분 분석 알고리즘)\"\"\"\n",
        "\n",
        "> 대표적인 차원 축소 알고리즘\n",
        "\n",
        "차원 축소: 데이터를 나타내는 일부 특성을 선택하여 데이터 크기를 줄이고 학습 모델의 성능을 향상시킴"
      ],
      "metadata": {
        "id": "y3uhFKzV9Zlq"
      }
    },
    {
      "cell_type": "code",
      "execution_count": 1,
      "metadata": {
        "colab": {
          "base_uri": "https://localhost:8080/"
        },
        "id": "QkntnI6C87Ee",
        "outputId": "54145195-f619-45f1-ecb5-ad199d487ec0"
      },
      "outputs": [
        {
          "output_type": "stream",
          "name": "stdout",
          "text": [
            "--2024-04-13 01:00:57--  https://bit.ly/fruits_300_data\n",
            "Resolving bit.ly (bit.ly)... 67.199.248.10, 67.199.248.11\n",
            "Connecting to bit.ly (bit.ly)|67.199.248.10|:443... connected.\n",
            "HTTP request sent, awaiting response... 301 Moved Permanently\n",
            "Location: https://github.com/rickiepark/hg-mldl/raw/master/fruits_300.npy [following]\n",
            "--2024-04-13 01:00:57--  https://github.com/rickiepark/hg-mldl/raw/master/fruits_300.npy\n",
            "Resolving github.com (github.com)... 140.82.112.4\n",
            "Connecting to github.com (github.com)|140.82.112.4|:443... connected.\n",
            "HTTP request sent, awaiting response... 302 Found\n",
            "Location: https://raw.githubusercontent.com/rickiepark/hg-mldl/master/fruits_300.npy [following]\n",
            "--2024-04-13 01:00:58--  https://raw.githubusercontent.com/rickiepark/hg-mldl/master/fruits_300.npy\n",
            "Resolving raw.githubusercontent.com (raw.githubusercontent.com)... 185.199.108.133, 185.199.109.133, 185.199.110.133, ...\n",
            "Connecting to raw.githubusercontent.com (raw.githubusercontent.com)|185.199.108.133|:443... connected.\n",
            "HTTP request sent, awaiting response... 200 OK\n",
            "Length: 3000128 (2.9M) [application/octet-stream]\n",
            "Saving to: ‘fruits_300.npy’\n",
            "\n",
            "fruits_300.npy      100%[===================>]   2.86M  --.-KB/s    in 0.06s   \n",
            "\n",
            "2024-04-13 01:00:58 (44.3 MB/s) - ‘fruits_300.npy’ saved [3000128/3000128]\n",
            "\n",
            "(50, 10000)\n"
          ]
        }
      ],
      "source": [
        "# 과일 데이터를 다운로드 하여 넘파이 배열로 저장\n",
        "!wget https://bit.ly/fruits_300_data -O fruits_300.npy\n",
        "import numpy as np\n",
        "fruits = np.load('fruits_300.npy')\n",
        "fruits_2d = fruits.reshape(-1, 100*100)\n",
        "\n",
        "# PCA클래스 임포트\n",
        "from sklearn.decomposition import PCA\n",
        "# n_components; 주성분의 개수\n",
        "pca = PCA(n_components=50)\n",
        "pca.fit(fruits_2d)\n",
        "\n",
        "# 주성분 크기 확인\n",
        "print(pca.components_.shape)"
      ]
    },
    {
      "cell_type": "code",
      "source": [
        "# 주성분을 이용하여 원본 데이터 차원을 줄임\n",
        "fruits_pca = pca.transform(fruits_2d)\n",
        "print(fruits_pca.shape)\n",
        "\n",
        "# 원본 데이터 재구성; 특성을 복원할 수도 있음\n",
        "fruits_inverse = pca.inverse_transform(fruits_pca)\n",
        "print(fruits_inverse.shape)"
      ],
      "metadata": {
        "colab": {
          "base_uri": "https://localhost:8080/"
        },
        "id": "IA2LNQxJ-Mah",
        "outputId": "09f2b060-569e-4f59-8ac0-261fc45feb29"
      },
      "execution_count": 3,
      "outputs": [
        {
          "output_type": "stream",
          "name": "stdout",
          "text": [
            "(300, 50)\n",
            "(300, 10000)\n"
          ]
        }
      ]
    },
    {
      "cell_type": "markdown",
      "source": [
        "> 설명된 분산\n",
        "\n",
        ": 주성분이 원본 데이터의 분산을 얼마나 잘 나타내는지 기록한 값\n",
        "\n",
        ": 설명된 분산을 모두 합하면 총 분산 비율을 구할 수 있음"
      ],
      "metadata": {
        "id": "hIffPrQ8--x8"
      }
    },
    {
      "cell_type": "code",
      "source": [
        "# 총 분산 비율 출력\n",
        "print(np.sum(pca.explained_variance_ratio_))\n",
        "# 설명된 분산 그래프를 이용하여 적절한 주성분 개수 찾기\n",
        "import matplotlib.pyplot as plt\n",
        "plt.plot(pca.explained_variance_ratio_)\n",
        "plt.show()"
      ],
      "metadata": {
        "colab": {
          "base_uri": "https://localhost:8080/",
          "height": 448
        },
        "id": "R0aEPsrI-one",
        "outputId": "e762a47e-0f18-4d3e-cbf9-d9b930ea0e2d"
      },
      "execution_count": 6,
      "outputs": [
        {
          "output_type": "stream",
          "name": "stdout",
          "text": [
            "0.9215684283707307\n"
          ]
        },
        {
          "output_type": "display_data",
          "data": {
            "text/plain": [
              "<Figure size 640x480 with 1 Axes>"
            ],
            "image/png": "[encoded data removed]"
          },
          "metadata": {}
        }
      ]
    },
    {
      "cell_type": "markdown",
      "source": [
        "> 로지스틱 회귀 모델을 이용하여 원본 데이터와 PCA로 축소한 데이터를 학습해보자."
      ],
      "metadata": {
        "id": "feOWYktq_vRm"
      }
    },
    {
      "cell_type": "code",
      "source": [
        "from sklearn.linear_model import LogisticRegression\n",
        "lr = LogisticRegression()\n",
        "# 타겟 데이터 생성; 사과 0, 파인애플 1, 바나나 2\n",
        "target = np.array([0]*100 + [1]*100 + [2]*100)\n",
        "\n",
        "# 원본 데이터로 학습\n",
        "from sklearn.model_selection import cross_validate\n",
        "scores = cross_validate(lr, fruits_2d, target)  # 교차 검증 수행\n",
        "print(np.mean(scores['test_score']))  # 교차 검증 점수 출력\n",
        "print(np.mean(scores['fit_time']))  # 훈련 시간 출력\n",
        "\n",
        "# PCA로 축소한 데이터로 학습\n",
        "pca = PCA(n_components=0.5) # 설명된 분산의 0.5에 달하는 주성분을 찾음\n",
        "pca.fit(fruits_2d)\n",
        "print(pca.n_components_)"
      ],
      "metadata": {
        "colab": {
          "base_uri": "https://localhost:8080/"
        },
        "id": "UJe1404j_0qa",
        "outputId": "34e6a283-cc50-424b-d935-838faadac3cf"
      },
      "execution_count": 7,
      "outputs": [
        {
          "output_type": "stream",
          "name": "stdout",
          "text": [
            "0.9966666666666667\n",
            "1.3004956245422363\n",
            "2\n"
          ]
        }
      ]
    },
    {
      "cell_type": "code",
      "source": [
        "fruits_pca = pca.transform(fruits_2d)\n",
        "print(fruits_pca.shape)\n",
        "scores = cross_validate(lr, fruits_pca, target)  # 교차 검증 수행\n",
        "print(np.mean(scores['test_score']))  # 교차 검증 점수 출력\n",
        "print(np.mean(scores['fit_time']))  # 훈련 시간 출력"
      ],
      "metadata": {
        "colab": {
          "base_uri": "https://localhost:8080/"
        },
        "id": "yndSTGovA6Fo",
        "outputId": "0f955956-87ec-4f6d-a905-ef390df3cc18"
      },
      "execution_count": 8,
      "outputs": [
        {
          "output_type": "stream",
          "name": "stdout",
          "text": [
            "(300, 2)\n",
            "0.9933333333333334\n",
            "0.027827072143554687\n"
          ]
        },
        {
          "output_type": "stream",
          "name": "stderr",
          "text": [
            "/usr/local/lib/python3.10/dist-packages/sklearn/linear_model/_logistic.py:458: ConvergenceWarning: lbfgs failed to converge (status=1):\n",
            "STOP: TOTAL NO. of ITERATIONS REACHED LIMIT.\n",
            "\n",
            "Increase the number of iterations (max_iter) or scale the data as shown in:\n",
            "    https://scikit-learn.org/stable/modules/preprocessing.html\n",
            "Please also refer to the documentation for alternative solver options:\n",
            "    https://scikit-learn.org/stable/modules/linear_model.html#logistic-regression\n",
            "  n_iter_i = _check_optimize_result(\n",
            "/usr/local/lib/python3.10/dist-packages/sklearn/linear_model/_logistic.py:458: ConvergenceWarning: lbfgs failed to converge (status=1):\n",
            "STOP: TOTAL NO. of ITERATIONS REACHED LIMIT.\n",
            "\n",
            "Increase the number of iterations (max_iter) or scale the data as shown in:\n",
            "    https://scikit-learn.org/stable/modules/preprocessing.html\n",
            "Please also refer to the documentation for alternative solver options:\n",
            "    https://scikit-learn.org/stable/modules/linear_model.html#logistic-regression\n",
            "  n_iter_i = _check_optimize_result(\n",
            "/usr/local/lib/python3.10/dist-packages/sklearn/linear_model/_logistic.py:458: ConvergenceWarning: lbfgs failed to converge (status=1):\n",
            "STOP: TOTAL NO. of ITERATIONS REACHED LIMIT.\n",
            "\n",
            "Increase the number of iterations (max_iter) or scale the data as shown in:\n",
            "    https://scikit-learn.org/stable/modules/preprocessing.html\n",
            "Please also refer to the documentation for alternative solver options:\n",
            "    https://scikit-learn.org/stable/modules/linear_model.html#logistic-regression\n",
            "  n_iter_i = _check_optimize_result(\n"
          ]
        }
      ]
    },
    {
      "cell_type": "code",
      "source": [
        "# PCA로 축소한 데이터로 k-mean 알고리즘 학습\n",
        "from sklearn.cluster import KMeans\n",
        "km = KMeans(n_clusters=3, random_state=42)\n",
        "km.fit(fruits_pca)\n",
        "print(np.unique(km.labels_, return_counts=True))  # fruits_pca로 찾은 클러스터가 포함하는 샘플 개수 출력"
      ],
      "metadata": {
        "colab": {
          "base_uri": "https://localhost:8080/"
        },
        "id": "s4huOCzvBQb1",
        "outputId": "5d0ae1e6-395b-4de6-9cf1-34ceab328671"
      },
      "execution_count": 10,
      "outputs": [
        {
          "output_type": "stream",
          "name": "stderr",
          "text": [
            "/usr/local/lib/python3.10/dist-packages/sklearn/cluster/_kmeans.py:870: FutureWarning: The default value of `n_init` will change from 10 to 'auto' in 1.4. Set the value of `n_init` explicitly to suppress the warning\n",
            "  warnings.warn(\n"
          ]
        },
        {
          "output_type": "stream",
          "name": "stdout",
          "text": [
            "(array([0, 1, 2], dtype=int32), array([110,  99,  91]))\n"
          ]
        }
      ]
    },
    {
      "cell_type": "code",
      "source": [
        "# 클러스터별로 나눈 산점도 그래프\n",
        "for label in range(0,3):\n",
        "  data = fruits_pca[km.labels_ == label]\n",
        "  plt.scatter(data[:,0], data[:,1])\n",
        "plt.legend(['apple', 'banana', 'pineapple'])\n",
        "plt.show()"
      ],
      "metadata": {
        "colab": {
          "base_uri": "https://localhost:8080/",
          "height": 430
        },
        "id": "FshSvlqjBt_S",
        "outputId": "ceb98801-235b-47bc-fe66-af5a9f0c66ca"
      },
      "execution_count": 14,
      "outputs": [
        {
          "output_type": "display_data",
          "data": {
            "text/plain": [
              "<Figure size 640x480 with 1 Axes>"
            ],
            "image/png": "[encoded data removed]"
          },
          "metadata": {}
        }
      ]
    }
  ]
}