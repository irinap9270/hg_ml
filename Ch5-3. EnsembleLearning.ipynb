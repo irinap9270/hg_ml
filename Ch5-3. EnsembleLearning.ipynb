{
  "nbformat": 4,
  "nbformat_minor": 0,
  "metadata": {
    "colab": {
      "provenance": [],
      "authorship_tag": "ABX9TyO6ZnH+7NnqCm6gheGNCf9+",
      "include_colab_link": true
    },
    "kernelspec": {
      "name": "python3",
      "display_name": "Python 3"
    },
    "language_info": {
      "name": "python"
    }
  },
  "cells": [
    {
      "cell_type": "markdown",
      "metadata": {
        "id": "view-in-github",
        "colab_type": "text"
      },
      "source": [
        "<a href=\"https://colab.research.google.com/github/irinap9270/hg_ml/blob/main/Ch5-3.%20EnsembleLearning.ipynb\" target=\"_parent\"><img src=\"https://colab.research.google.com/assets/colab-badge.svg\" alt=\"Open In Colab\"/></a>"
      ]
    },
    {
      "cell_type": "markdown",
      "source": [
        "# \"\"\"랜덤 포레스트\"\"\"\n",
        "\n",
        "> 부트스트랩 샘플\n",
        "\n",
        ": 입력한 훈련 데이터에서 중복을 허용하여 랜덤하게 샘플을 추출\n",
        "\n",
        ": 기본적으로 훈련 세트의 크기와 동일\n",
        "\n",
        "> RandomForestClassifier\n",
        "\n",
        ": 전체 특성 개수의 제곱근만큼 특성 선택\n",
        "\n",
        ": 각 트리의 클래스별 확률 평가 > 가장 높은 확률을 가진 클래스 선택"
      ],
      "metadata": {
        "id": "w79tMGisOGzs"
      }
    },
    {
      "cell_type": "code",
      "execution_count": 5,
      "metadata": {
        "colab": {
          "base_uri": "https://localhost:8080/"
        },
        "id": "thobD5-uLpz_",
        "outputId": "0ff496c9-a2f3-4e3e-c498-dce3b5cda794"
      },
      "outputs": [
        {
          "output_type": "stream",
          "name": "stdout",
          "text": [
            "0.9973541965122431 0.8905151032797809\n",
            "[0.23167441 0.50039841 0.26792718]\n",
            "0.8934000384837406\n"
          ]
        }
      ],
      "source": [
        "import numpy as np\n",
        "import pandas as pd\n",
        "from sklearn.model_selection import train_test_split\n",
        "\n",
        "wine = pd.read_csv('https://bit.ly/wine_csv_data')\n",
        "data = wine[['alcohol', 'sugar', 'pH']].to_numpy()\n",
        "target = wine['class'].to_numpy()\n",
        "train_input, test_input, train_target, test_target = train_test_split(data, target, test_size=0.2, random_state=42)\n",
        "\n",
        "# 교차 검증 수행\n",
        "from sklearn.model_selection import cross_validate\n",
        "from sklearn.ensemble import RandomForestClassifier\n",
        "\n",
        "# oob_score; oob샘플로 평가한 점수\n",
        "rf = RandomForestClassifier(oob_score=True, n_jobs=-1, random_state=42)\n",
        "scores = cross_validate(rf, train_input, train_target, return_train_score=True, n_jobs=-1)\n",
        "print(np.mean(scores['train_score']), np.mean(scores['test_score']))\n",
        "\n",
        "# 랜덤 포레스트 모델을 훈련 세트에 훈련한 후 특성 중요도 출력\n",
        "rf.fit(train_input, train_target)\n",
        "print(rf.feature_importances_)\n",
        "print(rf.oob_score_)"
      ]
    },
    {
      "cell_type": "markdown",
      "source": [
        "# \"\"\"엑스트라 트리\"\"\"\n",
        "\n",
        "> 전체 훈련 세트\n",
        "\n",
        ": 부트스트랩 샘플을 사용하지 않음\n",
        "\n",
        ": 무작위로 분할"
      ],
      "metadata": {
        "id": "gSp3WoGpQRCO"
      }
    },
    {
      "cell_type": "code",
      "source": [
        "from sklearn.ensemble import ExtraTreesClassifier\n",
        "et = ExtraTreesClassifier(n_jobs=-1, random_state=42)\n",
        "scores = cross_validate(et, train_input, train_target, return_train_score=True, n_jobs=-1)\n",
        "print(np.mean(scores['train_score']), np.mean(scores['test_score']))\n",
        "et.fit(train_input, train_target)\n",
        "print(et.feature_importances_)"
      ],
      "metadata": {
        "colab": {
          "base_uri": "https://localhost:8080/"
        },
        "id": "KzAWEKaBQUOj",
        "outputId": "33943c46-3b3f-4b88-db0e-b87cba28b8c2"
      },
      "execution_count": 7,
      "outputs": [
        {
          "output_type": "stream",
          "name": "stdout",
          "text": [
            "0.9974503966084433 0.8887848893166506\n",
            "[0.20183568 0.52242907 0.27573525]\n"
          ]
        }
      ]
    },
    {
      "cell_type": "markdown",
      "source": [
        "# \"\"\"그레이디언트 부스팅\"\"\"\n",
        "\n",
        "> 깊이가 얕은 결정 트리\n",
        "\n",
        ": 이전 트리의 오차 보완\n",
        "\n",
        ": 과대적합에 강함\n",
        "\n",
        ": 높은 일반화 성능\n",
        "\n",
        "> 경사 하강법을 사용\n",
        "\n",
        ": 결정 트리를 계속 추가하면서 가장 낮은 곳을 찾아 이동"
      ],
      "metadata": {
        "id": "hgumcNlTRwdL"
      }
    },
    {
      "cell_type": "code",
      "source": [
        "from sklearn.ensemble import GradientBoostingClassifier\n",
        "# n_estimators; 결정 트리 개수\n",
        "gb = GradientBoostingClassifier(n_estimators=500, learning_rate=0.2, random_state=42)\n",
        "scores = cross_validate(gb, train_input, train_target, return_train_score=True, n_jobs=-1)\n",
        "print(np.mean(scores['train_score']), np.mean(scores['test_score']))\n",
        "gb.fit(train_input, train_target)\n",
        "print(gb.feature_importances_)"
      ],
      "metadata": {
        "colab": {
          "base_uri": "https://localhost:8080/"
        },
        "id": "qsENFFNpRZvU",
        "outputId": "08888aa6-ee1d-4de3-fe16-63258dd3610c"
      },
      "execution_count": 10,
      "outputs": [
        {
          "output_type": "stream",
          "name": "stdout",
          "text": [
            "0.9464595437171814 0.8780082549788999\n",
            "[0.15872278 0.68010884 0.16116839]\n"
          ]
        }
      ]
    },
    {
      "cell_type": "markdown",
      "source": [
        "# \"\"\"히스토그램 기반 그레이디언트 부스팅\"\"\"\n",
        "\n",
        "> 입력 특성을 256 구간으로 나눔\n",
        "\n",
        ": 노드 분할에서 최적의 분할을 빠르게 찾을 수 있음\n",
        "\n",
        ": 입력에 누락된 특성이 있어도 전처리 필요 없음\n",
        "\n",
        "> HistGradientBoostingClassifier\n",
        "\n",
        ": 기본 매개변수에서 안정적인 성능\n",
        "\n",
        ": 트리 개수 지정 대신에 max_iter를 사용하여 부스팅 반복 횟수 지정"
      ],
      "metadata": {
        "id": "nW0tkPfJSzOn"
      }
    },
    {
      "cell_type": "code",
      "source": [
        "from sklearn.ensemble import HistGradientBoostingClassifier\n",
        "hgb = HistGradientBoostingClassifier(random_state=42)\n",
        "scores = cross_validate(hgb, train_input, train_target, return_train_score=True)\n",
        "print(np.mean(scores['train_score']), np.mean(scores['test_score']))\n",
        "\n",
        "from sklearn.inspection import permutation_importance # 특성을 하나씩 랜덤하게 섞어서 모델의 성능이 변화하는지 관찰하는 함수\n",
        "hgb.fit(train_input, train_target)\n",
        "# 훈련 세트에서 특성 중요도 계산\n",
        "# n_repeats; 랜덤하게 섞을 횟수 지정\n",
        "result = permutation_importance(hgb, train_input, train_target, n_repeats=10, random_state=42, n_jobs=-1)\n",
        "print(result.importances_mean)\n",
        "\n",
        "# 테스트 세트에서 특성 중요도 계산\n",
        "result = permutation_importance(hgb, test_input, test_target, n_repeats=10, random_state=42, n_jobs=-1)\n",
        "print(result.importances_mean)\n",
        "\n",
        "# 테스트 세트에서의 성능 최종 확인\n",
        "hgb.score(test_input, test_target)"
      ],
      "metadata": {
        "colab": {
          "base_uri": "https://localhost:8080/"
        },
        "id": "n2KiXdieTOgJ",
        "outputId": "1a2f9148-d81d-4b7c-f7ce-b31b6e19e82b"
      },
      "execution_count": 12,
      "outputs": [
        {
          "output_type": "stream",
          "name": "stdout",
          "text": [
            "0.9321723946453317 0.8801241948619236\n",
            "[0.08876275 0.23438522 0.08027708]\n",
            "[0.05969231 0.20238462 0.049     ]\n"
          ]
        },
        {
          "output_type": "execute_result",
          "data": {
            "text/plain": [
              "0.8723076923076923"
            ]
          },
          "metadata": {},
          "execution_count": 12
        }
      ]
    },
    {
      "cell_type": "markdown",
      "source": [
        "XGBoost를 활용하여 그레이디언트 부스팅 알고리즘을 사용해보자."
      ],
      "metadata": {
        "id": "wCNYIaZoUqcv"
      }
    },
    {
      "cell_type": "code",
      "source": [
        "from xgboost import XGBClassifier\n",
        "xgb = XGBClassifier(tree_method='hist', random_state=42)\n",
        "scores = cross_validate(xgb, train_input, train_target, return_train_score=True)\n",
        "print(np.mean(scores['train_score']), np.mean(scores['test_score']))"
      ],
      "metadata": {
        "colab": {
          "base_uri": "https://localhost:8080/"
        },
        "id": "E5dm3z3PUp5V",
        "outputId": "60c35305-cbdb-484c-df1f-0685eeb6aedb"
      },
      "execution_count": 13,
      "outputs": [
        {
          "output_type": "stream",
          "name": "stdout",
          "text": [
            "0.9558403027491312 0.8782000074035686\n"
          ]
        }
      ]
    },
    {
      "cell_type": "markdown",
      "source": [
        " LightGBM 을 활용하여 그레이디언트 부스팅 알고리즘을 사용해보자."
      ],
      "metadata": {
        "id": "KGDUKU-KVEGq"
      }
    },
    {
      "cell_type": "code",
      "source": [
        "from lightgbm import LGBMClassifier\n",
        "lgb = LGBMClassifier(random_state=42)\n",
        "scores = cross_validate(lgb, train_input, train_target, return_train_score=True)\n",
        "print(np.mean(scores['train_score']), np.mean(scores['test_score']))"
      ],
      "metadata": {
        "colab": {
          "base_uri": "https://localhost:8080/"
        },
        "id": "S8eHEjpbVK6n",
        "outputId": "d2e297d9-3fec-4d6e-8dc1-a6953fa65200"
      },
      "execution_count": 14,
      "outputs": [
        {
          "output_type": "stream",
          "name": "stdout",
          "text": [
            "[LightGBM] [Info] Number of positive: 3151, number of negative: 1006\n",
            "[LightGBM] [Info] Auto-choosing col-wise multi-threading, the overhead of testing was 0.000448 seconds.\n",
            "You can set `force_col_wise=true` to remove the overhead.\n",
            "[LightGBM] [Info] Total Bins 372\n",
            "[LightGBM] [Info] Number of data points in the train set: 4157, number of used features: 3\n",
            "[LightGBM] [Info] [binary:BoostFromScore]: pavg=0.757999 -> initscore=1.141738\n",
            "[LightGBM] [Info] Start training from score 1.141738\n",
            "[LightGBM] [Info] Number of positive: 3151, number of negative: 1006\n",
            "[LightGBM] [Info] Auto-choosing col-wise multi-threading, the overhead of testing was 0.000258 seconds.\n",
            "You can set `force_col_wise=true` to remove the overhead.\n",
            "[LightGBM] [Info] Total Bins 370\n",
            "[LightGBM] [Info] Number of data points in the train set: 4157, number of used features: 3\n",
            "[LightGBM] [Info] [binary:BoostFromScore]: pavg=0.757999 -> initscore=1.141738\n",
            "[LightGBM] [Info] Start training from score 1.141738\n",
            "[LightGBM] [Info] Number of positive: 3151, number of negative: 1007\n",
            "[LightGBM] [Info] Auto-choosing col-wise multi-threading, the overhead of testing was 0.000214 seconds.\n",
            "You can set `force_col_wise=true` to remove the overhead.\n",
            "[LightGBM] [Info] Total Bins 373\n",
            "[LightGBM] [Info] Number of data points in the train set: 4158, number of used features: 3\n",
            "[LightGBM] [Info] [binary:BoostFromScore]: pavg=0.757816 -> initscore=1.140744\n",
            "[LightGBM] [Info] Start training from score 1.140744\n",
            "[LightGBM] [Info] Number of positive: 3151, number of negative: 1007\n",
            "[LightGBM] [Info] Auto-choosing col-wise multi-threading, the overhead of testing was 0.000248 seconds.\n",
            "You can set `force_col_wise=true` to remove the overhead.\n",
            "[LightGBM] [Info] Total Bins 372\n",
            "[LightGBM] [Info] Number of data points in the train set: 4158, number of used features: 3\n",
            "[LightGBM] [Info] [binary:BoostFromScore]: pavg=0.757816 -> initscore=1.140744\n",
            "[LightGBM] [Info] Start training from score 1.140744\n",
            "[LightGBM] [Info] Number of positive: 3152, number of negative: 1006\n",
            "[LightGBM] [Info] Auto-choosing col-wise multi-threading, the overhead of testing was 0.000256 seconds.\n",
            "You can set `force_col_wise=true` to remove the overhead.\n",
            "[LightGBM] [Info] Total Bins 371\n",
            "[LightGBM] [Info] Number of data points in the train set: 4158, number of used features: 3\n",
            "[LightGBM] [Info] [binary:BoostFromScore]: pavg=0.758057 -> initscore=1.142055\n",
            "[LightGBM] [Info] Start training from score 1.142055\n",
            "0.935828414851749 0.8801251203079884\n"
          ]
        }
      ]
    }
  ]
}